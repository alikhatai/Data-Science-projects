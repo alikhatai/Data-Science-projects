{
  "nbformat": 4,
  "nbformat_minor": 0,
  "metadata": {
    "kernelspec": {
      "display_name": "Python 3",
      "language": "python",
      "name": "python3"
    },
    "language_info": {
      "codemirror_mode": {
        "name": "ipython",
        "version": 3
      },
      "file_extension": ".py",
      "mimetype": "text/x-python",
      "name": "python",
      "nbconvert_exporter": "python",
      "pygments_lexer": "ipython3",
      "version": "3.6.8"
    },
    "colab": {
      "provenance": []
    }
  },
  "cells": [
    {
      "cell_type": "markdown",
      "metadata": {
        "id": "8XXyPxbs2xPk"
      },
      "source": [
        "---\n",
        "---\n",
        "# Analysis of Electric Vehicle Range\n",
        "---\n",
        "---"
      ]
    },
    {
      "cell_type": "markdown",
      "metadata": {
        "id": "QKq5MXR02xPl"
      },
      "source": [
        "***\n",
        "## Authorship and Resources Used\n",
        "* Ali Khatai\n",
        "* Resources used: [Kaggle](https://www.kaggle.com/))"
      ]
    },
    {
      "cell_type": "markdown",
      "metadata": {
        "id": "a6v6IRx82xPm"
      },
      "source": [
        "***\n",
        "## Data Description and Source\n",
        "* This dataset was taken from Kaggle and it contains data about various electric vehicles. It tells us about the brands and models of electric and technical specification about each model such as their top speed, acceleration, range, efficiency etc.\n",
        "* The [dataset](https://www.kaggle.com/datasets/geoffnel/evs-one-electric-vehicle-dataset) is from Kaggle made by GEOFF839. The exact source of the data was unclear in the Kaggle post."
      ]
    },
    {
      "cell_type": "markdown",
      "metadata": {
        "id": "RuMkjIY02xPn"
      },
      "source": [
        "***\n",
        "## Import Libraries and Set Preferences for Visualization"
      ]
    },
    {
      "cell_type": "code",
      "metadata": {
        "id": "eAWfjBCf2xPo"
      },
      "source": [
        "import pandas as pd\n",
        "import matplotlib.pyplot as plt\n",
        "import seaborn as sns\n",
        "\n",
        "# add any additional libraries or plot preferences to this block"
      ],
      "execution_count": null,
      "outputs": []
    },
    {
      "cell_type": "markdown",
      "metadata": {
        "id": "KG451Qy42xPq"
      },
      "source": [
        "***\n",
        "## Read and Verify Data\n"
      ]
    },
    {
      "cell_type": "code",
      "metadata": {
        "id": "z9QyPEVs2xPr",
        "colab": {
          "base_uri": "https://localhost:8080/",
          "height": 177
        },
        "outputId": "a0ca2324-def4-49f1-c200-f6f760965901"
      },
      "source": [
        "# enter and test your code here\n",
        "# enter and test your code here\n",
        "\n",
        "# install Kaggle\n",
        "! pip install -q kaggle\n",
        "\n",
        "from google.colab import files\n",
        "files.upload()\n",
        "\n",
        "# make kaggle directory and move the file\n",
        "! mkdir ~/.kaggle\n",
        "! cp kaggle.json ~/.kaggle/\n",
        "! chmod 600 ~/.kaggle/kaggle.json\n",
        "\n",
        "# API command for the dataset\n",
        "! kaggle datasets download -d geoffnel/evs-one-electric-vehicle-dataset\n",
        "\n",
        "# unzip the data\n",
        "! mkdir kaggledata\n",
        "! unzip evs-one-electric-vehicle-dataset.zip -d kaggledata"
      ],
      "execution_count": null,
      "outputs": [
        {
          "output_type": "display_data",
          "data": {
            "text/plain": [
              "<IPython.core.display.HTML object>"
            ],
            "text/html": [
              "\n",
              "     <input type=\"file\" id=\"files-63e68bd6-9cf1-49a1-93dd-fc3c87dd5752\" name=\"files[]\" multiple disabled\n",
              "        style=\"border:none\" />\n",
              "     <output id=\"result-63e68bd6-9cf1-49a1-93dd-fc3c87dd5752\">\n",
              "      Upload widget is only available when the cell has been executed in the\n",
              "      current browser session. Please rerun this cell to enable.\n",
              "      </output>\n",
              "      <script>// Copyright 2017 Google LLC\n",
              "//\n",
              "// Licensed under the Apache License, Version 2.0 (the \"License\");\n",
              "// you may not use this file except in compliance with the License.\n",
              "// You may obtain a copy of the License at\n",
              "//\n",
              "//      http://www.apache.org/licenses/LICENSE-2.0\n",
              "//\n",
              "// Unless required by applicable law or agreed to in writing, software\n",
              "// distributed under the License is distributed on an \"AS IS\" BASIS,\n",
              "// WITHOUT WARRANTIES OR CONDITIONS OF ANY KIND, either express or implied.\n",
              "// See the License for the specific language governing permissions and\n",
              "// limitations under the License.\n",
              "\n",
              "/**\n",
              " * @fileoverview Helpers for google.colab Python module.\n",
              " */\n",
              "(function(scope) {\n",
              "function span(text, styleAttributes = {}) {\n",
              "  const element = document.createElement('span');\n",
              "  element.textContent = text;\n",
              "  for (const key of Object.keys(styleAttributes)) {\n",
              "    element.style[key] = styleAttributes[key];\n",
              "  }\n",
              "  return element;\n",
              "}\n",
              "\n",
              "// Max number of bytes which will be uploaded at a time.\n",
              "const MAX_PAYLOAD_SIZE = 100 * 1024;\n",
              "\n",
              "function _uploadFiles(inputId, outputId) {\n",
              "  const steps = uploadFilesStep(inputId, outputId);\n",
              "  const outputElement = document.getElementById(outputId);\n",
              "  // Cache steps on the outputElement to make it available for the next call\n",
              "  // to uploadFilesContinue from Python.\n",
              "  outputElement.steps = steps;\n",
              "\n",
              "  return _uploadFilesContinue(outputId);\n",
              "}\n",
              "\n",
              "// This is roughly an async generator (not supported in the browser yet),\n",
              "// where there are multiple asynchronous steps and the Python side is going\n",
              "// to poll for completion of each step.\n",
              "// This uses a Promise to block the python side on completion of each step,\n",
              "// then passes the result of the previous step as the input to the next step.\n",
              "function _uploadFilesContinue(outputId) {\n",
              "  const outputElement = document.getElementById(outputId);\n",
              "  const steps = outputElement.steps;\n",
              "\n",
              "  const next = steps.next(outputElement.lastPromiseValue);\n",
              "  return Promise.resolve(next.value.promise).then((value) => {\n",
              "    // Cache the last promise value to make it available to the next\n",
              "    // step of the generator.\n",
              "    outputElement.lastPromiseValue = value;\n",
              "    return next.value.response;\n",
              "  });\n",
              "}\n",
              "\n",
              "/**\n",
              " * Generator function which is called between each async step of the upload\n",
              " * process.\n",
              " * @param {string} inputId Element ID of the input file picker element.\n",
              " * @param {string} outputId Element ID of the output display.\n",
              " * @return {!Iterable<!Object>} Iterable of next steps.\n",
              " */\n",
              "function* uploadFilesStep(inputId, outputId) {\n",
              "  const inputElement = document.getElementById(inputId);\n",
              "  inputElement.disabled = false;\n",
              "\n",
              "  const outputElement = document.getElementById(outputId);\n",
              "  outputElement.innerHTML = '';\n",
              "\n",
              "  const pickedPromise = new Promise((resolve) => {\n",
              "    inputElement.addEventListener('change', (e) => {\n",
              "      resolve(e.target.files);\n",
              "    });\n",
              "  });\n",
              "\n",
              "  const cancel = document.createElement('button');\n",
              "  inputElement.parentElement.appendChild(cancel);\n",
              "  cancel.textContent = 'Cancel upload';\n",
              "  const cancelPromise = new Promise((resolve) => {\n",
              "    cancel.onclick = () => {\n",
              "      resolve(null);\n",
              "    };\n",
              "  });\n",
              "\n",
              "  // Wait for the user to pick the files.\n",
              "  const files = yield {\n",
              "    promise: Promise.race([pickedPromise, cancelPromise]),\n",
              "    response: {\n",
              "      action: 'starting',\n",
              "    }\n",
              "  };\n",
              "\n",
              "  cancel.remove();\n",
              "\n",
              "  // Disable the input element since further picks are not allowed.\n",
              "  inputElement.disabled = true;\n",
              "\n",
              "  if (!files) {\n",
              "    return {\n",
              "      response: {\n",
              "        action: 'complete',\n",
              "      }\n",
              "    };\n",
              "  }\n",
              "\n",
              "  for (const file of files) {\n",
              "    const li = document.createElement('li');\n",
              "    li.append(span(file.name, {fontWeight: 'bold'}));\n",
              "    li.append(span(\n",
              "        `(${file.type || 'n/a'}) - ${file.size} bytes, ` +\n",
              "        `last modified: ${\n",
              "            file.lastModifiedDate ? file.lastModifiedDate.toLocaleDateString() :\n",
              "                                    'n/a'} - `));\n",
              "    const percent = span('0% done');\n",
              "    li.appendChild(percent);\n",
              "\n",
              "    outputElement.appendChild(li);\n",
              "\n",
              "    const fileDataPromise = new Promise((resolve) => {\n",
              "      const reader = new FileReader();\n",
              "      reader.onload = (e) => {\n",
              "        resolve(e.target.result);\n",
              "      };\n",
              "      reader.readAsArrayBuffer(file);\n",
              "    });\n",
              "    // Wait for the data to be ready.\n",
              "    let fileData = yield {\n",
              "      promise: fileDataPromise,\n",
              "      response: {\n",
              "        action: 'continue',\n",
              "      }\n",
              "    };\n",
              "\n",
              "    // Use a chunked sending to avoid message size limits. See b/62115660.\n",
              "    let position = 0;\n",
              "    do {\n",
              "      const length = Math.min(fileData.byteLength - position, MAX_PAYLOAD_SIZE);\n",
              "      const chunk = new Uint8Array(fileData, position, length);\n",
              "      position += length;\n",
              "\n",
              "      const base64 = btoa(String.fromCharCode.apply(null, chunk));\n",
              "      yield {\n",
              "        response: {\n",
              "          action: 'append',\n",
              "          file: file.name,\n",
              "          data: base64,\n",
              "        },\n",
              "      };\n",
              "\n",
              "      let percentDone = fileData.byteLength === 0 ?\n",
              "          100 :\n",
              "          Math.round((position / fileData.byteLength) * 100);\n",
              "      percent.textContent = `${percentDone}% done`;\n",
              "\n",
              "    } while (position < fileData.byteLength);\n",
              "  }\n",
              "\n",
              "  // All done.\n",
              "  yield {\n",
              "    response: {\n",
              "      action: 'complete',\n",
              "    }\n",
              "  };\n",
              "}\n",
              "\n",
              "scope.google = scope.google || {};\n",
              "scope.google.colab = scope.google.colab || {};\n",
              "scope.google.colab._files = {\n",
              "  _uploadFiles,\n",
              "  _uploadFilesContinue,\n",
              "};\n",
              "})(self);\n",
              "</script> "
            ]
          },
          "metadata": {}
        },
        {
          "output_type": "stream",
          "name": "stdout",
          "text": [
            "Saving kaggle.json to kaggle.json\n",
            "Downloading evs-one-electric-vehicle-dataset.zip to /content\n",
            "  0% 0.00/5.76k [00:00<?, ?B/s]\n",
            "100% 5.76k/5.76k [00:00<00:00, 4.30MB/s]\n",
            "Archive:  evs-one-electric-vehicle-dataset.zip\n",
            "  inflating: kaggledata/ElectricCarData_Clean.csv  \n",
            "  inflating: kaggledata/ElectricCarData_Norm.csv  \n"
          ]
        }
      ]
    },
    {
      "cell_type": "code",
      "source": [
        "# Create the dataFrame from the CSV file\n",
        "df = pd.read_csv('/content/kaggledata/ElectricCarData_Clean.csv', encoding= 'unicode_escape')"
      ],
      "metadata": {
        "id": "bWK24eK_xTAq"
      },
      "execution_count": null,
      "outputs": []
    },
    {
      "cell_type": "code",
      "source": [
        "# Examine the data frames\n",
        "print(df.info())\n",
        "df"
      ],
      "metadata": {
        "colab": {
          "base_uri": "https://localhost:8080/",
          "height": 806
        },
        "id": "fsCf5rvVxU9B",
        "outputId": "6a2d1b77-3e03-4c94-8fcd-3d948747bf20"
      },
      "execution_count": null,
      "outputs": [
        {
          "output_type": "stream",
          "name": "stdout",
          "text": [
            "<class 'pandas.core.frame.DataFrame'>\n",
            "RangeIndex: 103 entries, 0 to 102\n",
            "Data columns (total 14 columns):\n",
            " #   Column           Non-Null Count  Dtype  \n",
            "---  ------           --------------  -----  \n",
            " 0   Brand            103 non-null    object \n",
            " 1   Model            103 non-null    object \n",
            " 2   AccelSec         103 non-null    float64\n",
            " 3   TopSpeed_KmH     103 non-null    int64  \n",
            " 4   Range_Km         103 non-null    int64  \n",
            " 5   Efficiency_WhKm  103 non-null    int64  \n",
            " 6   FastCharge_KmH   103 non-null    object \n",
            " 7   RapidCharge      103 non-null    object \n",
            " 8   PowerTrain       103 non-null    object \n",
            " 9   PlugType         103 non-null    object \n",
            " 10  BodyStyle        103 non-null    object \n",
            " 11  Segment          103 non-null    object \n",
            " 12  Seats            103 non-null    int64  \n",
            " 13  PriceEuro        103 non-null    int64  \n",
            "dtypes: float64(1), int64(5), object(8)\n",
            "memory usage: 11.4+ KB\n",
            "None\n"
          ]
        },
        {
          "output_type": "execute_result",
          "data": {
            "text/plain": [
              "           Brand                            Model  AccelSec  TopSpeed_KmH  \\\n",
              "0         Tesla     Model 3 Long Range Dual Motor       4.6           233   \n",
              "1    Volkswagen                         ID.3 Pure      10.0           160   \n",
              "2      Polestar                                 2       4.7           210   \n",
              "3           BMW                              iX3        6.8           180   \n",
              "4         Honda                                e        9.5           145   \n",
              "..           ...                              ...       ...           ...   \n",
              "98       Nissan                       Ariya 63kWh       7.5           160   \n",
              "99         Audi     e-tron S Sportback 55 quattro       4.5           210   \n",
              "100      Nissan               Ariya e-4ORCE 63kWh       5.9           200   \n",
              "101      Nissan   Ariya e-4ORCE 87kWh Performance       5.1           200   \n",
              "102       Byton                 M-Byte 95 kWh 2WD       7.5           190   \n",
              "\n",
              "     Range_Km  Efficiency_WhKm FastCharge_KmH RapidCharge PowerTrain  \\\n",
              "0         450              161            940         Yes        AWD   \n",
              "1         270              167            250         Yes        RWD   \n",
              "2         400              181            620         Yes        AWD   \n",
              "3         360              206            560         Yes        RWD   \n",
              "4         170              168            190         Yes        RWD   \n",
              "..        ...              ...            ...         ...        ...   \n",
              "98        330              191            440         Yes        FWD   \n",
              "99        335              258            540         Yes        AWD   \n",
              "100       325              194            440         Yes        AWD   \n",
              "101       375              232            450         Yes        AWD   \n",
              "102       400              238            480         Yes        AWD   \n",
              "\n",
              "       PlugType  BodyStyle Segment  Seats  PriceEuro  \n",
              "0    Type 2 CCS      Sedan       D      5      55480  \n",
              "1    Type 2 CCS  Hatchback       C      5      30000  \n",
              "2    Type 2 CCS   Liftback       D      5      56440  \n",
              "3    Type 2 CCS        SUV       D      5      68040  \n",
              "4    Type 2 CCS  Hatchback       B      4      32997  \n",
              "..          ...        ...     ...    ...        ...  \n",
              "98   Type 2 CCS  Hatchback       C      5      45000  \n",
              "99   Type 2 CCS        SUV       E      5      96050  \n",
              "100  Type 2 CCS  Hatchback       C      5      50000  \n",
              "101  Type 2 CCS  Hatchback       C      5      65000  \n",
              "102  Type 2 CCS        SUV       E      5      62000  \n",
              "\n",
              "[103 rows x 14 columns]"
            ],
            "text/html": [
              "\n",
              "  <div id=\"df-5def5a41-7791-4435-b049-52b4ef092889\">\n",
              "    <div class=\"colab-df-container\">\n",
              "      <div>\n",
              "<style scoped>\n",
              "    .dataframe tbody tr th:only-of-type {\n",
              "        vertical-align: middle;\n",
              "    }\n",
              "\n",
              "    .dataframe tbody tr th {\n",
              "        vertical-align: top;\n",
              "    }\n",
              "\n",
              "    .dataframe thead th {\n",
              "        text-align: right;\n",
              "    }\n",
              "</style>\n",
              "<table border=\"1\" class=\"dataframe\">\n",
              "  <thead>\n",
              "    <tr style=\"text-align: right;\">\n",
              "      <th></th>\n",
              "      <th>Brand</th>\n",
              "      <th>Model</th>\n",
              "      <th>AccelSec</th>\n",
              "      <th>TopSpeed_KmH</th>\n",
              "      <th>Range_Km</th>\n",
              "      <th>Efficiency_WhKm</th>\n",
              "      <th>FastCharge_KmH</th>\n",
              "      <th>RapidCharge</th>\n",
              "      <th>PowerTrain</th>\n",
              "      <th>PlugType</th>\n",
              "      <th>BodyStyle</th>\n",
              "      <th>Segment</th>\n",
              "      <th>Seats</th>\n",
              "      <th>PriceEuro</th>\n",
              "    </tr>\n",
              "  </thead>\n",
              "  <tbody>\n",
              "    <tr>\n",
              "      <th>0</th>\n",
              "      <td>Tesla</td>\n",
              "      <td>Model 3 Long Range Dual Motor</td>\n",
              "      <td>4.6</td>\n",
              "      <td>233</td>\n",
              "      <td>450</td>\n",
              "      <td>161</td>\n",
              "      <td>940</td>\n",
              "      <td>Yes</td>\n",
              "      <td>AWD</td>\n",
              "      <td>Type 2 CCS</td>\n",
              "      <td>Sedan</td>\n",
              "      <td>D</td>\n",
              "      <td>5</td>\n",
              "      <td>55480</td>\n",
              "    </tr>\n",
              "    <tr>\n",
              "      <th>1</th>\n",
              "      <td>Volkswagen</td>\n",
              "      <td>ID.3 Pure</td>\n",
              "      <td>10.0</td>\n",
              "      <td>160</td>\n",
              "      <td>270</td>\n",
              "      <td>167</td>\n",
              "      <td>250</td>\n",
              "      <td>Yes</td>\n",
              "      <td>RWD</td>\n",
              "      <td>Type 2 CCS</td>\n",
              "      <td>Hatchback</td>\n",
              "      <td>C</td>\n",
              "      <td>5</td>\n",
              "      <td>30000</td>\n",
              "    </tr>\n",
              "    <tr>\n",
              "      <th>2</th>\n",
              "      <td>Polestar</td>\n",
              "      <td>2</td>\n",
              "      <td>4.7</td>\n",
              "      <td>210</td>\n",
              "      <td>400</td>\n",
              "      <td>181</td>\n",
              "      <td>620</td>\n",
              "      <td>Yes</td>\n",
              "      <td>AWD</td>\n",
              "      <td>Type 2 CCS</td>\n",
              "      <td>Liftback</td>\n",
              "      <td>D</td>\n",
              "      <td>5</td>\n",
              "      <td>56440</td>\n",
              "    </tr>\n",
              "    <tr>\n",
              "      <th>3</th>\n",
              "      <td>BMW</td>\n",
              "      <td>iX3</td>\n",
              "      <td>6.8</td>\n",
              "      <td>180</td>\n",
              "      <td>360</td>\n",
              "      <td>206</td>\n",
              "      <td>560</td>\n",
              "      <td>Yes</td>\n",
              "      <td>RWD</td>\n",
              "      <td>Type 2 CCS</td>\n",
              "      <td>SUV</td>\n",
              "      <td>D</td>\n",
              "      <td>5</td>\n",
              "      <td>68040</td>\n",
              "    </tr>\n",
              "    <tr>\n",
              "      <th>4</th>\n",
              "      <td>Honda</td>\n",
              "      <td>e</td>\n",
              "      <td>9.5</td>\n",
              "      <td>145</td>\n",
              "      <td>170</td>\n",
              "      <td>168</td>\n",
              "      <td>190</td>\n",
              "      <td>Yes</td>\n",
              "      <td>RWD</td>\n",
              "      <td>Type 2 CCS</td>\n",
              "      <td>Hatchback</td>\n",
              "      <td>B</td>\n",
              "      <td>4</td>\n",
              "      <td>32997</td>\n",
              "    </tr>\n",
              "    <tr>\n",
              "      <th>...</th>\n",
              "      <td>...</td>\n",
              "      <td>...</td>\n",
              "      <td>...</td>\n",
              "      <td>...</td>\n",
              "      <td>...</td>\n",
              "      <td>...</td>\n",
              "      <td>...</td>\n",
              "      <td>...</td>\n",
              "      <td>...</td>\n",
              "      <td>...</td>\n",
              "      <td>...</td>\n",
              "      <td>...</td>\n",
              "      <td>...</td>\n",
              "      <td>...</td>\n",
              "    </tr>\n",
              "    <tr>\n",
              "      <th>98</th>\n",
              "      <td>Nissan</td>\n",
              "      <td>Ariya 63kWh</td>\n",
              "      <td>7.5</td>\n",
              "      <td>160</td>\n",
              "      <td>330</td>\n",
              "      <td>191</td>\n",
              "      <td>440</td>\n",
              "      <td>Yes</td>\n",
              "      <td>FWD</td>\n",
              "      <td>Type 2 CCS</td>\n",
              "      <td>Hatchback</td>\n",
              "      <td>C</td>\n",
              "      <td>5</td>\n",
              "      <td>45000</td>\n",
              "    </tr>\n",
              "    <tr>\n",
              "      <th>99</th>\n",
              "      <td>Audi</td>\n",
              "      <td>e-tron S Sportback 55 quattro</td>\n",
              "      <td>4.5</td>\n",
              "      <td>210</td>\n",
              "      <td>335</td>\n",
              "      <td>258</td>\n",
              "      <td>540</td>\n",
              "      <td>Yes</td>\n",
              "      <td>AWD</td>\n",
              "      <td>Type 2 CCS</td>\n",
              "      <td>SUV</td>\n",
              "      <td>E</td>\n",
              "      <td>5</td>\n",
              "      <td>96050</td>\n",
              "    </tr>\n",
              "    <tr>\n",
              "      <th>100</th>\n",
              "      <td>Nissan</td>\n",
              "      <td>Ariya e-4ORCE 63kWh</td>\n",
              "      <td>5.9</td>\n",
              "      <td>200</td>\n",
              "      <td>325</td>\n",
              "      <td>194</td>\n",
              "      <td>440</td>\n",
              "      <td>Yes</td>\n",
              "      <td>AWD</td>\n",
              "      <td>Type 2 CCS</td>\n",
              "      <td>Hatchback</td>\n",
              "      <td>C</td>\n",
              "      <td>5</td>\n",
              "      <td>50000</td>\n",
              "    </tr>\n",
              "    <tr>\n",
              "      <th>101</th>\n",
              "      <td>Nissan</td>\n",
              "      <td>Ariya e-4ORCE 87kWh Performance</td>\n",
              "      <td>5.1</td>\n",
              "      <td>200</td>\n",
              "      <td>375</td>\n",
              "      <td>232</td>\n",
              "      <td>450</td>\n",
              "      <td>Yes</td>\n",
              "      <td>AWD</td>\n",
              "      <td>Type 2 CCS</td>\n",
              "      <td>Hatchback</td>\n",
              "      <td>C</td>\n",
              "      <td>5</td>\n",
              "      <td>65000</td>\n",
              "    </tr>\n",
              "    <tr>\n",
              "      <th>102</th>\n",
              "      <td>Byton</td>\n",
              "      <td>M-Byte 95 kWh 2WD</td>\n",
              "      <td>7.5</td>\n",
              "      <td>190</td>\n",
              "      <td>400</td>\n",
              "      <td>238</td>\n",
              "      <td>480</td>\n",
              "      <td>Yes</td>\n",
              "      <td>AWD</td>\n",
              "      <td>Type 2 CCS</td>\n",
              "      <td>SUV</td>\n",
              "      <td>E</td>\n",
              "      <td>5</td>\n",
              "      <td>62000</td>\n",
              "    </tr>\n",
              "  </tbody>\n",
              "</table>\n",
              "<p>103 rows × 14 columns</p>\n",
              "</div>\n",
              "      <button class=\"colab-df-convert\" onclick=\"convertToInteractive('df-5def5a41-7791-4435-b049-52b4ef092889')\"\n",
              "              title=\"Convert this dataframe to an interactive table.\"\n",
              "              style=\"display:none;\">\n",
              "        \n",
              "  <svg xmlns=\"http://www.w3.org/2000/svg\" height=\"24px\"viewBox=\"0 0 24 24\"\n",
              "       width=\"24px\">\n",
              "    <path d=\"M0 0h24v24H0V0z\" fill=\"none\"/>\n",
              "    <path d=\"M18.56 5.44l.94 2.06.94-2.06 2.06-.94-2.06-.94-.94-2.06-.94 2.06-2.06.94zm-11 1L8.5 8.5l.94-2.06 2.06-.94-2.06-.94L8.5 2.5l-.94 2.06-2.06.94zm10 10l.94 2.06.94-2.06 2.06-.94-2.06-.94-.94-2.06-.94 2.06-2.06.94z\"/><path d=\"M17.41 7.96l-1.37-1.37c-.4-.4-.92-.59-1.43-.59-.52 0-1.04.2-1.43.59L10.3 9.45l-7.72 7.72c-.78.78-.78 2.05 0 2.83L4 21.41c.39.39.9.59 1.41.59.51 0 1.02-.2 1.41-.59l7.78-7.78 2.81-2.81c.8-.78.8-2.07 0-2.86zM5.41 20L4 18.59l7.72-7.72 1.47 1.35L5.41 20z\"/>\n",
              "  </svg>\n",
              "      </button>\n",
              "      \n",
              "  <style>\n",
              "    .colab-df-container {\n",
              "      display:flex;\n",
              "      flex-wrap:wrap;\n",
              "      gap: 12px;\n",
              "    }\n",
              "\n",
              "    .colab-df-convert {\n",
              "      background-color: #E8F0FE;\n",
              "      border: none;\n",
              "      border-radius: 50%;\n",
              "      cursor: pointer;\n",
              "      display: none;\n",
              "      fill: #1967D2;\n",
              "      height: 32px;\n",
              "      padding: 0 0 0 0;\n",
              "      width: 32px;\n",
              "    }\n",
              "\n",
              "    .colab-df-convert:hover {\n",
              "      background-color: #E2EBFA;\n",
              "      box-shadow: 0px 1px 2px rgba(60, 64, 67, 0.3), 0px 1px 3px 1px rgba(60, 64, 67, 0.15);\n",
              "      fill: #174EA6;\n",
              "    }\n",
              "\n",
              "    [theme=dark] .colab-df-convert {\n",
              "      background-color: #3B4455;\n",
              "      fill: #D2E3FC;\n",
              "    }\n",
              "\n",
              "    [theme=dark] .colab-df-convert:hover {\n",
              "      background-color: #434B5C;\n",
              "      box-shadow: 0px 1px 3px 1px rgba(0, 0, 0, 0.15);\n",
              "      filter: drop-shadow(0px 1px 2px rgba(0, 0, 0, 0.3));\n",
              "      fill: #FFFFFF;\n",
              "    }\n",
              "  </style>\n",
              "\n",
              "      <script>\n",
              "        const buttonEl =\n",
              "          document.querySelector('#df-5def5a41-7791-4435-b049-52b4ef092889 button.colab-df-convert');\n",
              "        buttonEl.style.display =\n",
              "          google.colab.kernel.accessAllowed ? 'block' : 'none';\n",
              "\n",
              "        async function convertToInteractive(key) {\n",
              "          const element = document.querySelector('#df-5def5a41-7791-4435-b049-52b4ef092889');\n",
              "          const dataTable =\n",
              "            await google.colab.kernel.invokeFunction('convertToInteractive',\n",
              "                                                     [key], {});\n",
              "          if (!dataTable) return;\n",
              "\n",
              "          const docLinkHtml = 'Like what you see? Visit the ' +\n",
              "            '<a target=\"_blank\" href=https://colab.research.google.com/notebooks/data_table.ipynb>data table notebook</a>'\n",
              "            + ' to learn more about interactive tables.';\n",
              "          element.innerHTML = '';\n",
              "          dataTable['output_type'] = 'display_data';\n",
              "          await google.colab.output.renderOutput(dataTable, element);\n",
              "          const docLink = document.createElement('div');\n",
              "          docLink.innerHTML = docLinkHtml;\n",
              "          element.appendChild(docLink);\n",
              "        }\n",
              "      </script>\n",
              "    </div>\n",
              "  </div>\n",
              "  "
            ]
          },
          "metadata": {},
          "execution_count": 5
        }
      ]
    },
    {
      "cell_type": "code",
      "source": [
        "# check for any duplicate or null values in the dataset before using it\n",
        "print(df.isna().sum())\n",
        "print(df.duplicated().sum())"
      ],
      "metadata": {
        "colab": {
          "base_uri": "https://localhost:8080/"
        },
        "id": "6rHEhwJe2k7Z",
        "outputId": "23bb0753-08c3-4c79-f4cc-82a5ff0e05e8"
      },
      "execution_count": null,
      "outputs": [
        {
          "output_type": "stream",
          "name": "stdout",
          "text": [
            "Brand              0\n",
            "Model              0\n",
            "AccelSec           0\n",
            "TopSpeed_KmH       0\n",
            "Range_Km           0\n",
            "Efficiency_WhKm    0\n",
            "FastCharge_KmH     0\n",
            "RapidCharge        0\n",
            "PowerTrain         0\n",
            "PlugType           0\n",
            "BodyStyle          0\n",
            "Segment            0\n",
            "Seats              0\n",
            "PriceEuro          0\n",
            "dtype: int64\n",
            "0\n"
          ]
        }
      ]
    },
    {
      "cell_type": "markdown",
      "source": [
        "Data seems to be clean"
      ],
      "metadata": {
        "id": "0BQ7SUKy3F8z"
      }
    },
    {
      "cell_type": "markdown",
      "source": [
        "***\n",
        "## Research Question\n",
        "* My reaserch question is to figure out which aspects of an Electric vehicle affect its range and by how much. These include affects on the range by the price, topspeed, efficiency, and acceleration (time taken to reach 0 to 100 kmph)\n"
      ],
      "metadata": {
        "id": "ma90VHll3LON"
      }
    },
    {
      "cell_type": "markdown",
      "metadata": {
        "id": "BRdgYlNP2xPu"
      },
      "source": [
        "***\n",
        "## Analyses and Visualizations\n",
        "* We will answer our question using scatter plots with regression lines. we will plot the driving range of each car against the price, topspeed, efficiency and accelration and analyse the amount of correlation between them.\n"
      ]
    },
    {
      "cell_type": "code",
      "source": [
        "# since we are checking for correlation we can start by making a correlation matrix between the factors we are considering\n",
        "\n",
        "# first we can subset the dataset on only the colums we are using\n",
        "df = df.loc[:,[\"PriceEuro\",\"AccelSec\",\"TopSpeed_KmH\",\"Range_Km\",\"Efficiency_WhKm\",\"Seats\"]]\n",
        "correlations = df.corr()\n",
        "correlations"
      ],
      "metadata": {
        "colab": {
          "base_uri": "https://localhost:8080/",
          "height": 238
        },
        "id": "F9c97Ajx9wqp",
        "outputId": "e16cbc40-443f-4a5b-82d2-d3fdfd0dcb95"
      },
      "execution_count": null,
      "outputs": [
        {
          "output_type": "execute_result",
          "data": {
            "text/plain": [
              "                 PriceEuro  AccelSec  TopSpeed_KmH  Range_Km  Efficiency_WhKm  \\\n",
              "PriceEuro         1.000000 -0.627174      0.829057  0.674844         0.396705   \n",
              "AccelSec         -0.627174  1.000000     -0.786195 -0.677062        -0.382904   \n",
              "TopSpeed_KmH      0.829057 -0.786195      1.000000  0.746662         0.355675   \n",
              "Range_Km          0.674844 -0.677062      0.746662  1.000000         0.313077   \n",
              "Efficiency_WhKm   0.396705 -0.382904      0.355675  0.313077         1.000000   \n",
              "Seats             0.020920 -0.175335      0.126470  0.300163         0.301230   \n",
              "\n",
              "                    Seats  \n",
              "PriceEuro        0.020920  \n",
              "AccelSec        -0.175335  \n",
              "TopSpeed_KmH     0.126470  \n",
              "Range_Km         0.300163  \n",
              "Efficiency_WhKm  0.301230  \n",
              "Seats            1.000000  "
            ],
            "text/html": [
              "\n",
              "  <div id=\"df-d5d7c873-548c-4c84-83cd-9206505b0c0d\">\n",
              "    <div class=\"colab-df-container\">\n",
              "      <div>\n",
              "<style scoped>\n",
              "    .dataframe tbody tr th:only-of-type {\n",
              "        vertical-align: middle;\n",
              "    }\n",
              "\n",
              "    .dataframe tbody tr th {\n",
              "        vertical-align: top;\n",
              "    }\n",
              "\n",
              "    .dataframe thead th {\n",
              "        text-align: right;\n",
              "    }\n",
              "</style>\n",
              "<table border=\"1\" class=\"dataframe\">\n",
              "  <thead>\n",
              "    <tr style=\"text-align: right;\">\n",
              "      <th></th>\n",
              "      <th>PriceEuro</th>\n",
              "      <th>AccelSec</th>\n",
              "      <th>TopSpeed_KmH</th>\n",
              "      <th>Range_Km</th>\n",
              "      <th>Efficiency_WhKm</th>\n",
              "      <th>Seats</th>\n",
              "    </tr>\n",
              "  </thead>\n",
              "  <tbody>\n",
              "    <tr>\n",
              "      <th>PriceEuro</th>\n",
              "      <td>1.000000</td>\n",
              "      <td>-0.627174</td>\n",
              "      <td>0.829057</td>\n",
              "      <td>0.674844</td>\n",
              "      <td>0.396705</td>\n",
              "      <td>0.020920</td>\n",
              "    </tr>\n",
              "    <tr>\n",
              "      <th>AccelSec</th>\n",
              "      <td>-0.627174</td>\n",
              "      <td>1.000000</td>\n",
              "      <td>-0.786195</td>\n",
              "      <td>-0.677062</td>\n",
              "      <td>-0.382904</td>\n",
              "      <td>-0.175335</td>\n",
              "    </tr>\n",
              "    <tr>\n",
              "      <th>TopSpeed_KmH</th>\n",
              "      <td>0.829057</td>\n",
              "      <td>-0.786195</td>\n",
              "      <td>1.000000</td>\n",
              "      <td>0.746662</td>\n",
              "      <td>0.355675</td>\n",
              "      <td>0.126470</td>\n",
              "    </tr>\n",
              "    <tr>\n",
              "      <th>Range_Km</th>\n",
              "      <td>0.674844</td>\n",
              "      <td>-0.677062</td>\n",
              "      <td>0.746662</td>\n",
              "      <td>1.000000</td>\n",
              "      <td>0.313077</td>\n",
              "      <td>0.300163</td>\n",
              "    </tr>\n",
              "    <tr>\n",
              "      <th>Efficiency_WhKm</th>\n",
              "      <td>0.396705</td>\n",
              "      <td>-0.382904</td>\n",
              "      <td>0.355675</td>\n",
              "      <td>0.313077</td>\n",
              "      <td>1.000000</td>\n",
              "      <td>0.301230</td>\n",
              "    </tr>\n",
              "    <tr>\n",
              "      <th>Seats</th>\n",
              "      <td>0.020920</td>\n",
              "      <td>-0.175335</td>\n",
              "      <td>0.126470</td>\n",
              "      <td>0.300163</td>\n",
              "      <td>0.301230</td>\n",
              "      <td>1.000000</td>\n",
              "    </tr>\n",
              "  </tbody>\n",
              "</table>\n",
              "</div>\n",
              "      <button class=\"colab-df-convert\" onclick=\"convertToInteractive('df-d5d7c873-548c-4c84-83cd-9206505b0c0d')\"\n",
              "              title=\"Convert this dataframe to an interactive table.\"\n",
              "              style=\"display:none;\">\n",
              "        \n",
              "  <svg xmlns=\"http://www.w3.org/2000/svg\" height=\"24px\"viewBox=\"0 0 24 24\"\n",
              "       width=\"24px\">\n",
              "    <path d=\"M0 0h24v24H0V0z\" fill=\"none\"/>\n",
              "    <path d=\"M18.56 5.44l.94 2.06.94-2.06 2.06-.94-2.06-.94-.94-2.06-.94 2.06-2.06.94zm-11 1L8.5 8.5l.94-2.06 2.06-.94-2.06-.94L8.5 2.5l-.94 2.06-2.06.94zm10 10l.94 2.06.94-2.06 2.06-.94-2.06-.94-.94-2.06-.94 2.06-2.06.94z\"/><path d=\"M17.41 7.96l-1.37-1.37c-.4-.4-.92-.59-1.43-.59-.52 0-1.04.2-1.43.59L10.3 9.45l-7.72 7.72c-.78.78-.78 2.05 0 2.83L4 21.41c.39.39.9.59 1.41.59.51 0 1.02-.2 1.41-.59l7.78-7.78 2.81-2.81c.8-.78.8-2.07 0-2.86zM5.41 20L4 18.59l7.72-7.72 1.47 1.35L5.41 20z\"/>\n",
              "  </svg>\n",
              "      </button>\n",
              "      \n",
              "  <style>\n",
              "    .colab-df-container {\n",
              "      display:flex;\n",
              "      flex-wrap:wrap;\n",
              "      gap: 12px;\n",
              "    }\n",
              "\n",
              "    .colab-df-convert {\n",
              "      background-color: #E8F0FE;\n",
              "      border: none;\n",
              "      border-radius: 50%;\n",
              "      cursor: pointer;\n",
              "      display: none;\n",
              "      fill: #1967D2;\n",
              "      height: 32px;\n",
              "      padding: 0 0 0 0;\n",
              "      width: 32px;\n",
              "    }\n",
              "\n",
              "    .colab-df-convert:hover {\n",
              "      background-color: #E2EBFA;\n",
              "      box-shadow: 0px 1px 2px rgba(60, 64, 67, 0.3), 0px 1px 3px 1px rgba(60, 64, 67, 0.15);\n",
              "      fill: #174EA6;\n",
              "    }\n",
              "\n",
              "    [theme=dark] .colab-df-convert {\n",
              "      background-color: #3B4455;\n",
              "      fill: #D2E3FC;\n",
              "    }\n",
              "\n",
              "    [theme=dark] .colab-df-convert:hover {\n",
              "      background-color: #434B5C;\n",
              "      box-shadow: 0px 1px 3px 1px rgba(0, 0, 0, 0.15);\n",
              "      filter: drop-shadow(0px 1px 2px rgba(0, 0, 0, 0.3));\n",
              "      fill: #FFFFFF;\n",
              "    }\n",
              "  </style>\n",
              "\n",
              "      <script>\n",
              "        const buttonEl =\n",
              "          document.querySelector('#df-d5d7c873-548c-4c84-83cd-9206505b0c0d button.colab-df-convert');\n",
              "        buttonEl.style.display =\n",
              "          google.colab.kernel.accessAllowed ? 'block' : 'none';\n",
              "\n",
              "        async function convertToInteractive(key) {\n",
              "          const element = document.querySelector('#df-d5d7c873-548c-4c84-83cd-9206505b0c0d');\n",
              "          const dataTable =\n",
              "            await google.colab.kernel.invokeFunction('convertToInteractive',\n",
              "                                                     [key], {});\n",
              "          if (!dataTable) return;\n",
              "\n",
              "          const docLinkHtml = 'Like what you see? Visit the ' +\n",
              "            '<a target=\"_blank\" href=https://colab.research.google.com/notebooks/data_table.ipynb>data table notebook</a>'\n",
              "            + ' to learn more about interactive tables.';\n",
              "          element.innerHTML = '';\n",
              "          dataTable['output_type'] = 'display_data';\n",
              "          await google.colab.output.renderOutput(dataTable, element);\n",
              "          const docLink = document.createElement('div');\n",
              "          docLink.innerHTML = docLinkHtml;\n",
              "          element.appendChild(docLink);\n",
              "        }\n",
              "      </script>\n",
              "    </div>\n",
              "  </div>\n",
              "  "
            ]
          },
          "metadata": {},
          "execution_count": 7
        }
      ]
    },
    {
      "cell_type": "code",
      "source": [
        "correlations[\"Range_Km\"].values[0]"
      ],
      "metadata": {
        "colab": {
          "base_uri": "https://localhost:8080/"
        },
        "id": "NVhHYn50_YgX",
        "outputId": "1b7ccd37-0678-454c-b8ca-c41366876190"
      },
      "execution_count": null,
      "outputs": [
        {
          "output_type": "execute_result",
          "data": {
            "text/plain": [
              "0.6748436092632104"
            ]
          },
          "metadata": {},
          "execution_count": 8
        }
      ]
    },
    {
      "cell_type": "code",
      "metadata": {
        "id": "I0LGCv6O2xPv",
        "colab": {
          "base_uri": "https://localhost:8080/",
          "height": 398
        },
        "outputId": "2a646bcd-4665-4821-a226-a8e7bb7a8b89"
      },
      "source": [
        "# enter and test your code here\n",
        "# make visualizations for Range vs price\n",
        "sns.set(font_scale=1)\n",
        "plt.figure(figsize=(20,10))\n",
        "sns.lmplot(x = 'PriceEuro',\n",
        "           y = 'Range_Km',\n",
        "           data = df)\n",
        "\n",
        "plt.title(\"Driving Range vs Price\")\n",
        "plt.xlabel(\"Price in Euros\")\n",
        "plt.ylabel(\"Range in Kilometers\")\n",
        "plt.show()"
      ],
      "execution_count": null,
      "outputs": [
        {
          "output_type": "display_data",
          "data": {
            "text/plain": [
              "<Figure size 1440x720 with 0 Axes>"
            ]
          },
          "metadata": {}
        },
        {
          "output_type": "display_data",
          "data": {
            "text/plain": [
              "<Figure size 360x360 with 1 Axes>"
            ],
            "image/png": "[encoded data removed]"
          },
          "metadata": {}
        }
      ]
    },
    {
      "cell_type": "markdown",
      "source": [
        "Range and Price show a strong positive correlation with a correlation co-efficient of 0.674. Not too surprising as more expensive cars should have better and larger batteries, better technology to increase efficiency, and overall better engineered to get the longest range."
      ],
      "metadata": {
        "id": "I8UZ1-f99bVC"
      }
    },
    {
      "cell_type": "code",
      "source": [
        "# enter and test your code here\n",
        "# make visualizations for Range vs top speed\n",
        "sns.set(font_scale=1)\n",
        "plt.figure(figsize=(20,10))\n",
        "sns.lmplot(x = 'TopSpeed_KmH',\n",
        "           y = 'Range_Km',\n",
        "           data = df)\n",
        "\n",
        "plt.title(\"Driving Range vs Top Speed\")\n",
        "plt.xlabel(\"Top Speed in Kilometers per hour\")\n",
        "plt.ylabel(\"Range in Kilometers\")\n",
        "plt.show()"
      ],
      "metadata": {
        "colab": {
          "base_uri": "https://localhost:8080/",
          "height": 398
        },
        "id": "prkJzDDc4mPr",
        "outputId": "81be88f1-3207-4c60-8b0b-554182e78472"
      },
      "execution_count": null,
      "outputs": [
        {
          "output_type": "display_data",
          "data": {
            "text/plain": [
              "<Figure size 1440x720 with 0 Axes>"
            ]
          },
          "metadata": {}
        },
        {
          "output_type": "display_data",
          "data": {
            "text/plain": [
              "<Figure size 360x360 with 1 Axes>"
            ],
            "image/png": "[encoded data removed]"
          },
          "metadata": {}
        }
      ]
    },
    {
      "cell_type": "markdown",
      "source": [
        "Range and top speed shows the strongest positive correlation with a correlation co-efficient of 0.746. I can't quite specualte why this may be. If expected top speed to have a negative correlation as faster cars are usually the ones that are designed anf engineered for speed rather than range and efficiency."
      ],
      "metadata": {
        "id": "6mT-2yxnHSVg"
      }
    },
    {
      "cell_type": "code",
      "source": [
        "# enter and test your code here\n",
        "# make visualizations for Range vs acceleration\n",
        "sns.set(font_scale=1)\n",
        "plt.figure(figsize=(20,10))\n",
        "sns.lmplot(x = 'AccelSec',\n",
        "           y = 'Range_Km',\n",
        "           data = df)\n",
        "\n",
        "plt.title(\"Driving Range vs Acceleartion\")\n",
        "plt.xlabel(\"Time taken to reach 0-100 KMH in seconds\")\n",
        "plt.ylabel(\"Range in Kilometers\")\n",
        "plt.show()"
      ],
      "metadata": {
        "colab": {
          "base_uri": "https://localhost:8080/",
          "height": 398
        },
        "id": "GY6xmJin5XfT",
        "outputId": "16f997a6-5a1f-4d6b-bab2-061caae98dfc"
      },
      "execution_count": null,
      "outputs": [
        {
          "output_type": "display_data",
          "data": {
            "text/plain": [
              "<Figure size 1440x720 with 0 Axes>"
            ]
          },
          "metadata": {}
        },
        {
          "output_type": "display_data",
          "data": {
            "text/plain": [
              "<Figure size 360x360 with 1 Axes>"
            ],
            "image/png": "[encoded data removed]"
          },
          "metadata": {}
        }
      ]
    },
    {
      "cell_type": "markdown",
      "source": [
        "Range and acceleration showed a strong negative correlation with a correlation co-efficient of -0.677. It is negative because the acceleration in the time in seconds for the car to reach 0-100 kmH, so if the acceleration was kilometers per second squared, the correlation would be positive. This again dosen't make too much sense to me a faster cars usually have worse efficiency and range, but this might be different for EV's."
      ],
      "metadata": {
        "id": "wXxWA2NXH8dm"
      }
    },
    {
      "cell_type": "code",
      "source": [
        "# enter and test your code here\n",
        "# make visualizations for Range vs acceleration\n",
        "sns.set(font_scale=1)\n",
        "plt.figure(figsize=(20,20))\n",
        "sns.lmplot(x = 'Efficiency_WhKm',\n",
        "           y = 'Range_Km',\n",
        "           data = df)\n",
        "\n",
        "plt.title(\"Driving Range vs Efficiency\")\n",
        "plt.xlabel(\"Effiency in Whkm\")\n",
        "plt.ylabel(\"Range in Kilometers\")\n",
        "plt.show()"
      ],
      "metadata": {
        "colab": {
          "base_uri": "https://localhost:8080/",
          "height": 398
        },
        "id": "2Ex5z62D5qOC",
        "outputId": "5031147e-ff90-4834-f90f-c7ef057f5301"
      },
      "execution_count": null,
      "outputs": [
        {
          "output_type": "display_data",
          "data": {
            "text/plain": [
              "<Figure size 1440x1440 with 0 Axes>"
            ]
          },
          "metadata": {}
        },
        {
          "output_type": "display_data",
          "data": {
            "text/plain": [
              "<Figure size 360x360 with 1 Axes>"
            ],
            "image/png": "[encoded data removed]"
          },
          "metadata": {}
        }
      ]
    },
    {
      "cell_type": "markdown",
      "source": [
        "This one surprised me the most. I expected efficiency to have the strongest positive correlation with range, but it ended up having the weakest one. To the best of my knowledge, efficiency is the main thing that should affect the range, but the dataset seems to say otherwise."
      ],
      "metadata": {
        "id": "25M8Hh_SInTt"
      }
    },
    {
      "cell_type": "code",
      "source": [
        "# we can also check how the number of seats in a car affects the range. This is best shown with a bar plot\n",
        "df_grouped_count =  df.groupby(by='Seats').mean()\n",
        "df_grouped_count = df_grouped_count.reset_index()\n",
        "sns.barplot(x = \"Seats\",\n",
        "            y = \"Range_Km\",\n",
        "            data = df_grouped_count)\n",
        "plt.title(\"Driving range of cars based on number of seats\")\n",
        "plt.xlabel(\"Number of seats\")\n",
        "plt.ylabel(\"Range in Kilometers ( Averaged )\")\n",
        "plt.show()\n"
      ],
      "metadata": {
        "colab": {
          "base_uri": "https://localhost:8080/",
          "height": 301
        },
        "id": "F2o3csV-6Ewc",
        "outputId": "a54832f2-1651-46ef-874c-1252235691cc"
      },
      "execution_count": null,
      "outputs": [
        {
          "output_type": "display_data",
          "data": {
            "text/plain": [
              "<Figure size 432x288 with 1 Axes>"
            ],
            "image/png": "[encoded data removed]"
          },
          "metadata": {}
        }
      ]
    },
    {
      "cell_type": "markdown",
      "source": [
        "THe bar chart shows that cars with 5 seats have the highest averaged range, this makes sense. This is because cars with 2 doors are usually sports cars that are designed with speed and power in mind rather than range and efficiency. 6 seaters are usually those cars which are desined for daily family use in which case, range and efficiency are big factors, so it makes sense that 6 seaters have the longest range."
      ],
      "metadata": {
        "id": "PbIiTvgfJAGr"
      }
    },
    {
      "cell_type": "markdown",
      "metadata": {
        "id": "OXydnMTnDEM3"
      },
      "source": [
        "---\n",
        "---"
      ]
    }
  ]
}